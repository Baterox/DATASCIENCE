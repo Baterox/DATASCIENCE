{
 "cells": [
  {
   "cell_type": "code",
   "execution_count": 5,
   "id": "09488745",
   "metadata": {},
   "outputs": [],
   "source": [
    "import numpy as np\n",
    "from keras.models import load_model\n",
    "import cv2\n",
    "from keras.preprocessing import image\n",
    "from keras.preprocessing.image import img_to_array\n",
    "from time import sleep"
   ]
  },
  {
   "cell_type": "code",
   "execution_count": 7,
   "id": "3bd13c02",
   "metadata": {},
   "outputs": [],
   "source": [
    "# Importamos el clasificador pre-entrenado para detección de rostros frontales\n",
    "face_classifier = cv2.CascadeClassifier('./Face_emotion_recognition/haarcascade_frontalface_default.xml')\n",
    "\n",
    "# Inicializamos la captura de video desde la cámara principal (0 indica la cámara por defecto)\n",
    "cap = cv2.VideoCapture(0)\n",
    "\n",
    "# Establecemos la resolución de la captura a 640x480\n",
    "cap.set(cv2.CAP_PROP_FRAME_WIDTH, 640)\n",
    "cap.set(cv2.CAP_PROP_FRAME_HEIGHT, 480)\n",
    "\n",
    "# Bucle infinito hasta que se interrumpe\n",
    "while True:\n",
    "    # Leemos un fotograma del video, '_' es una variable descartada que en este caso sería el valor booleano indicando si el fotograma se leyó correctamente\n",
    "    _, frame = cap.read()\n",
    "\n",
    "    # Convertimos el fotograma a escala de grises\n",
    "    gray = cv2.cvtColor(frame,cv2.COLOR_BGR2GRAY)\n",
    "\n",
    "    # Utilizamos el clasificador para detectar rostros en el fotograma en escala de grises\n",
    "    faces = face_classifier.detectMultiScale(gray, scaleFactor=1.1, minNeighbors=5, minSize=(30, 30))\n",
    "\n",
    "    # Para cada rostro detectado\n",
    "    for (x,y,w,h) in faces:\n",
    "        # Dibujamos un rectángulo alrededor del rostro en el fotograma original\n",
    "        cv2.rectangle(frame,(x,y),(x+w,y+h),(0,255,255),2)\n",
    "\n",
    "        # Extraemos la región de interés del rostro en la imagen en escala de grises\n",
    "        roi_gray = gray[y:y+h,x:x+w]\n",
    "\n",
    "        # Redimensionamos la región de interés a un tamaño estándar de 48x48\n",
    "        roi_gray = cv2.resize(roi_gray,(48,48),interpolation=cv2.INTER_AREA)\n",
    "\n",
    "    # Mostramos el fotograma con los rostros resaltados\n",
    "    cv2.imshow('Emotion Detector',frame)\n",
    "\n",
    "    # Si se presiona la tecla 'q', se rompe el bucle\n",
    "    if cv2.waitKey(1) & 0xFF == ord('q'):\n",
    "        break\n",
    "\n",
    "# Liberamos la cámara y cerramos todas las ventanas de OpenCV\n",
    "cap.release()\n",
    "cv2.destroyAllWindows()\n"
   ]
  }
 ],
 "metadata": {
  "kernelspec": {
   "display_name": "Python 3",
   "language": "python",
   "name": "python3"
  },
  "language_info": {
   "codemirror_mode": {
    "name": "ipython",
    "version": 3
   },
   "file_extension": ".py",
   "mimetype": "text/x-python",
   "name": "python",
   "nbconvert_exporter": "python",
   "pygments_lexer": "ipython3",
   "version": "3.9.0"
  }
 },
 "nbformat": 4,
 "nbformat_minor": 5
}
